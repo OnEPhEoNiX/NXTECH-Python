{
 "cells": [
  {
   "cell_type": "markdown",
   "metadata": {},
   "source": [
    "# Program To Interact With Device without using UI Made By Mohak"
   ]
  },
  {
   "cell_type": "markdown",
   "metadata": {},
   "source": [
    "## Libraries"
   ]
  },
  {
   "cell_type": "code",
   "execution_count": 15,
   "metadata": {},
   "outputs": [],
   "source": [
    "import os\n",
    "import pyttsx3\n",
    "import webbrowser\n",
    "import datetime\n",
    "import speech_recognition as sr\n",
    "import pywhatkit\n",
    "import wikipedia\n",
    "import pyjokes\n",
    "import time\n",
    "import pyaudio\n"
   ]
  },
  {
   "cell_type": "code",
   "execution_count": 16,
   "metadata": {},
   "outputs": [],
   "source": [
    "listener = sr.Recognizer()\n",
    "engine = pyttsx3.init()\n",
    "voices = engine.getProperty('voices')\n",
    "engine.setProperty('voice', voices[1].id)"
   ]
  },
  {
   "cell_type": "markdown",
   "metadata": {},
   "source": [
    "## User Defined Functions"
   ]
  },
  {
   "cell_type": "markdown",
   "metadata": {},
   "source": [
    "### System Speaking Function"
   ]
  },
  {
   "cell_type": "code",
   "execution_count": 17,
   "metadata": {},
   "outputs": [],
   "source": [
    "def talk(text):\n",
    "    engine.say(text)\n",
    "    engine.runAndWait()"
   ]
  },
  {
   "cell_type": "markdown",
   "metadata": {},
   "source": [
    "### Given command to system function"
   ]
  },
  {
   "cell_type": "code",
   "execution_count": 18,
   "metadata": {},
   "outputs": [],
   "source": [
    "def take_command():\n",
    "    command = \"\"\n",
    "    try:\n",
    "        with sr.Microphone() as source:\n",
    "            print('listening....')\n",
    "            listener.adjust_for_ambient_noise(source)\n",
    "            audio = listener.listen(source, timeout=5)\n",
    "            print('recognizing...')\n",
    "            command = listener.recognize_google(audio)\n",
    "            command = command.lower()\n",
    "            if 'sophie' in command:\n",
    "                command = command.replace('sophie', '')\n",
    "                print(command)\n",
    "    except sr.UnknownValueError:\n",
    "        print(\"Could not understand audio\")\n",
    "    except sr.RequestError as e:\n",
    "        print(\"Could not request results; {0}\".format(e))\n",
    "    except sr.WaitTimeoutError:\n",
    "        print(\"Listening timeout\")\n",
    "    return command"
   ]
  },
  {
   "cell_type": "markdown",
   "metadata": {},
   "source": [
    "### Time function"
   ]
  },
  {
   "cell_type": "code",
   "execution_count": 19,
   "metadata": {},
   "outputs": [],
   "source": [
    "def good_time():\n",
    "    current_time = datetime.datetime.now().time()\n",
    "    morning_time = datetime.time(6, 0)\n",
    "    noon_time = datetime.time(12, 0)\n",
    "    evening_time = datetime.time(16, 0)\n",
    "    night_time = datetime.time(0, 0)\n",
    "\n",
    "    if morning_time <= current_time < noon_time:\n",
    "        statement = \"Good morning!\"\n",
    "    elif noon_time <= current_time < evening_time:\n",
    "        statement = \"Good afternoon!\"\n",
    "    elif evening_time <= current_time or current_time < night_time:\n",
    "        statement = \"Good evening!\"\n",
    "    else:\n",
    "        statement = \"Good night!\"\n",
    "\n",
    "    return statement"
   ]
  },
  {
   "cell_type": "markdown",
   "metadata": {},
   "source": [
    "### Browser Function"
   ]
  },
  {
   "cell_type": "code",
   "execution_count": 20,
   "metadata": {},
   "outputs": [],
   "source": [
    "def Browser(user_name):\n",
    "    talk(user_name + \", As seen in my system, there are three web browsers: Google Chrome, Microsoft Edge, and Mozilla Firefox.\")\n",
    "    talk(\"What would you like to open?\")\n",
    "    select_browser = take_command()\n",
    "    print(select_browser)\n",
    "    if select_browser.upper() == \"GOOGLE CHROME\" or select_browser.upper() == \"CHROME\":\n",
    "        talk(\"Google Chrome is opening. Please wait for a moment.\")\n",
    "        os.system(\"start chrome\")\n",
    "    elif select_browser.upper() == \"MICROSOFT EDGE\" or select_browser.upper() == \"EDGE\":\n",
    "        talk(\"Microsoft Edge is opening. Please wait for a moment.\")\n",
    "        os.system(\"start msedge\")\n",
    "    elif select_browser.upper() == \"MOZILLA FIREFOX\" or select_browser.upper() == \"FIREFOX\":\n",
    "        talk(\"Mozilla Firefox is opening. Please wait for a moment.\")\n",
    "        os.system(\"start firefox\")\n",
    "    else:\n",
    "        talk(\"There is no web browser installed on my system or you have given the wrong spelling of the browser.\")\n",
    "        talk(\"Please check again.\")\n",
    "        talk(\"Or else, I will open Google Chrome for you.\")\n",
    "        os.system(\"start chrome\")"
   ]
  },
  {
   "cell_type": "markdown",
   "metadata": {},
   "source": [
    "### Meeting App Function"
   ]
  },
  {
   "cell_type": "code",
   "execution_count": 21,
   "metadata": {},
   "outputs": [],
   "source": [
    "def meet_app(user_name):\n",
    "    talk(user_name + \", In which app would you like to join a meeting?\")\n",
    "    talk(\"Zoom or Google Meet?\")\n",
    "    talk(\"What would you like to open?\")\n",
    "    select_meetapp = take_command()\n",
    "    if select_meetapp.upper() == \"ZOOM\":\n",
    "        talk(\"Zoom is opening. Please wait for a moment.\")\n",
    "        webbrowser.open(\"https://pwa.zoom.us/wc/\")\n",
    "    elif select_meetapp.upper() == \"GOOGLE MEET\" or select_meetapp.upper() == \"MEET\":\n",
    "        talk(\"Google Meet is opening. Please wait for a moment.\")\n",
    "        webbrowser.open(\"https://apps.google.com/meet/\")\n",
    "    else:\n",
    "        talk(\"There is no other meeting app which I can search, or you have given the wrong spelling of the meeting app.\")\n",
    "        talk(\"Please check again.\")"
   ]
  },
  {
   "cell_type": "markdown",
   "metadata": {},
   "source": [
    "### Social Media Function"
   ]
  },
  {
   "cell_type": "code",
   "execution_count": 22,
   "metadata": {},
   "outputs": [],
   "source": [
    "def social_media(user_name):\n",
    "    talk(user_name + \", which social media platform would you like to open?\")\n",
    "    talk(\"First is Facebook, Second is Discord, Third is LinkedIn, Fourth is Whatsapp, Fifth is Instagram, Sixth is Twitter.\")\n",
    "    talk(user_name + \", enter your choice.\")\n",
    "    select_socialmedia = take_command()\n",
    "    print(social_media)\n",
    "    if 'open' in select_socialmedia:\n",
    "        select_socialmedia = select_socialmedia.replace('open', '')\n",
    "\n",
    "    if select_socialmedia.upper() == \"FACEBOOK\":\n",
    "        talk(\"Would you like to sign up or sign in?\")\n",
    "        talk(\"Please comment.\")\n",
    "        user_choice2 = take_command()\n",
    "        if user_choice2.replace(\" \", \"\").upper() == \"SIGNUP\":\n",
    "            talk(\"Facebook is opening. Please wait for a moment.\")\n",
    "            webbrowser.open(\"https://www.facebook.com/r.php?locale=en_GB&display=page\")\n",
    "        else:\n",
    "            talk(\"Facebook is opening. Please wait for a moment.\")\n",
    "            os.system(\"chrome https://www.facebook.com/login/\")\n",
    "\n",
    "    elif select_socialmedia.upper() == \"DISCORD\":\n",
    "        talk(\"Would you like to sign up or sign in?\")\n",
    "        talk(\"Please comment.\")\n",
    "        user_choice2 = take_command()\n",
    "        if user_choice2.replace(\" \", \"\").upper() == \"SIGNUP\":\n",
    "            talk(\"Discord is opening. Please wait for a moment.\")\n",
    "            os.system(\"chrome https://discord.com/\")\n",
    "        else:\n",
    "            talk(\"Discord is opening. Please wait for a moment.\")\n",
    "            os.system(\"chrome https://discord.com/login\")\n",
    "\n",
    "    elif select_socialmedia.upper() == \"LINKEDIN\" or select_socialmedia.upper() == \"LINDIN\" :\n",
    "        talk(\"Would you like to sign up or sign in?\")\n",
    "        talk(\"Please comment.\")\n",
    "        user_choice2 = take_command()\n",
    "        if user_choice2.replace(\" \", \"\").upper() == \"SIGNUP\":\n",
    "            talk(\"LinkedIn is opening. Please wait for a moment.\")\n",
    "            os.system(\"chrome https://www.linkedin.com/signup/cold-join?trk=guest_homepage-basic_nav-header-join\")\n",
    "        else:\n",
    "            talk(\"LinkedIn is opening. Please wait for a moment.\")\n",
    "            os.system(\"chrome https://www.linkedin.com/login?fromSignIn=true&trk=guest_homepage-basic_nav-header-signin\")\n",
    "\n",
    "    elif select_socialmedia.upper() == \"WHATSAPP\":\n",
    "        talk(\"Whatsapp is opening. Please wait for a moment.\")\n",
    "        os.system(\"chrome https://web.whatsapp.com/\")\n",
    "\n",
    "    elif select_socialmedia.upper() == \"INSTAGRAM\":\n",
    "        talk(\"Would you like to sign up or sign in?\")\n",
    "        talk(\"Please comment.\")\n",
    "        user_choice2 = take_command()\n",
    "        if user_choice2.replace(\" \", \"\").upper() == \"SIGNUP\":\n",
    "            talk(\"Instagram is opening. Please wait for a moment.\")\n",
    "            os.system(\"chrome https://www.instagram.com/accounts/emailsignup/\")\n",
    "        else:\n",
    "            talk(\"Instagram is opening. Please wait for a moment.\")\n",
    "            os.system(\"chrome https://www.instagram.com/accounts/login/?source=auth_switcher\")\n",
    "\n",
    "    elif select_socialmedia.upper() == \"TWITTER\":\n",
    "        talk(\"Would you like to sign up or sign in?\")\n",
    "        talk(\"Please comment.\")\n",
    "        user_choice2 = take_command()\n",
    "        if user_choice2.replace(\" \", \"\").upper() == \"SIGNUP\":\n",
    "            talk(\"Twitter is opening. Please wait for a moment.\")\n",
    "            os.system(\"chrome https://twitter.com/?lang=en\")\n",
    "        else:\n",
    "            talk(\"Twitter is opening. Please wait for a moment.\")\n",
    "            os.system(\"chrome https://twitter.com/?lang=en\")\n",
    "\n",
    "    else:\n",
    "        talk(\"There is no other social media platform which I can search, or you have given the wrong spelling of the social media platform.\")\n",
    "        talk(\"Please check again.\")"
   ]
  },
  {
   "cell_type": "markdown",
   "metadata": {},
   "source": [
    "### Media Player Function"
   ]
  },
  {
   "cell_type": "code",
   "execution_count": 23,
   "metadata": {},
   "outputs": [],
   "source": [
    "def media_player(user_name):\n",
    "    talk(user_name + \", as seen in my system, there is only one media player, which is Windows Media Player.\")\n",
    "    talk(\"Would you like to open it?\")\n",
    "    talk(\"Please say Yes or No.\")\n",
    "    select_mediaplayer = take_command()\n",
    "    if select_mediaplayer.upper() == \"YES\":\n",
    "        talk(\"Windows Media Player is opening. Please wait for a moment.\")\n",
    "        os.system(\"wmplayer\")\n",
    "    else:\n",
    "        talk(\"There is no other media player which I can search or you have given the wrong choice.\")\n",
    "        talk(\"Please check again.\")"
   ]
  },
  {
   "cell_type": "markdown",
   "metadata": {},
   "source": [
    "### Surfing Function"
   ]
  },
  {
   "cell_type": "code",
   "execution_count": 24,
   "metadata": {},
   "outputs": [],
   "source": [
    "def Surfing(user_name):\n",
    "    talk(user_name + \", do you want to search anything?\")\n",
    "    talk(\"Please say Yes or No.\")\n",
    "    user_choice1 = take_command()\n",
    "    while user_choice1.upper() == \"YES\":\n",
    "        talk(user_name + \", what would you like to search?\")\n",
    "        talk(\"Please enter.\")\n",
    "        search = take_command()\n",
    "        if 'search' in search:\n",
    "            search_1 = search.replace('search', '')\n",
    "        talk(\"As seen, you want to search \" + search_1)\n",
    "        webbrowser.open(\"https://www.google.com/search?q=\" + search_1)\n",
    "        talk(\"Anything else you want to search?\")\n",
    "        talk(\"Please say Yes or No.\")\n",
    "        user_choice1 = take_command()\n",
    "    else:\n",
    "        talk(\"Thank you, \" + user_name + \", for surfing.\")"
   ]
  },
  {
   "cell_type": "markdown",
   "metadata": {},
   "source": [
    "### Watching Function"
   ]
  },
  {
   "cell_type": "code",
   "execution_count": 25,
   "metadata": {},
   "outputs": [],
   "source": [
    "def watch_video(user_name):\n",
    "    talk(user_name + \", do you want to search any video?\")\n",
    "    talk(\"Please say Yes or No.\")\n",
    "    user_choice1 = take_command()\n",
    "    while user_choice1.upper() == \"YES\":\n",
    "        talk(user_name + \", which video would you like to search?\")\n",
    "        talk(\"Please enter.\")\n",
    "        search = take_command()\n",
    "        if 'search' in search:\n",
    "            search_1 = search.replace('search', '')\n",
    "        talk(\"As seen, you want to see \" + search_1 + \" video.\")\n",
    "        webbrowser.open(\"https://www.youtube.com/results?search_query=\" + search_1)\n",
    "        talk(\"Any other video you want to search?\")\n",
    "        talk(\"Please say Yes or No.\")\n",
    "        user_choice1 = take_command()\n",
    "    else:\n",
    "        talk(\"Thank you, \" + user_name + \", for watching.\")"
   ]
  },
  {
   "cell_type": "markdown",
   "metadata": {},
   "source": [
    "### Setting Function"
   ]
  },
  {
   "cell_type": "code",
   "execution_count": 26,
   "metadata": {},
   "outputs": [],
   "source": [
    "def Setting(user_name):\n",
    "    talk(user_name + \", would you like to open settings?\")\n",
    "    talk(\"Please say Yes or No.\")\n",
    "    user_choice1 = take_command()\n",
    "    if user_choice1.upper() == \"YES\":\n",
    "        talk(\"Settings is opening. Please wait for a moment.\")\n",
    "        os.system(\"start ms-settings:\")\n",
    "    else:\n",
    "        talk(\"Thank you, \" + user_name)"
   ]
  },
  {
   "cell_type": "markdown",
   "metadata": {},
   "source": [
    "### Calculator Function"
   ]
  },
  {
   "cell_type": "code",
   "execution_count": 27,
   "metadata": {},
   "outputs": [],
   "source": [
    "def calculator(user_name):\n",
    "    talk(\"Would you like to use the calculator?\")\n",
    "    talk(\"Please say Yes or No.\")\n",
    "    user_choice4 = take_command()\n",
    "    while user_choice4.upper() == \"YES\":\n",
    "        talk(user_name + \", what would you like to calculate?\")\n",
    "        talk(\"Please comment.\")\n",
    "        user_choice1 = take_command()\n",
    "        if user_choice1.upper() == \"SUM\" or user_choice1.upper() == \"ADD\" or user_choice1 == '+':\n",
    "            talk(\"Enter two numbers.\")\n",
    "            user_choice2 = int(input(\"Enter first number = \"))\n",
    "            user_choice3 = int(input(\"Enter second number = \"))\n",
    "            add = user_choice2 + user_choice3\n",
    "            talk(user_name + \", the sum of \" + str(user_choice2) + \" and \" + str(user_choice3) + \" is \" + str(add) + \".\")\n",
    "            print(\"Sum of\", user_choice2, \"and\", user_choice3, \"is\", add)\n",
    "        elif user_choice1.upper() == \"DIFFERENCE\" or user_choice1.upper() == \"SUBTRACT\" or user_choice1 == '-':\n",
    "            talk(\"Enter two numbers.\")\n",
    "            user_choice2 = int(input(\"Enter first number = \"))\n",
    "            user_choice3 = int(input(\"Enter second number = \"))\n",
    "            sub = user_choice2 - user_choice3\n",
    "            talk(user_name + \", the difference of \" + str(user_choice2) + \" and \" + str(user_choice3) + \" is \" + str(sub) + \".\")\n",
    "            print(\"Difference of\", user_choice2, \"and\", user_choice3, \"is\", sub)\n",
    "        elif user_choice1.upper() == \"PRODUCT\" or user_choice1.upper() == \"MULTIPLY\" or user_choice1 == '*':\n",
    "            talk(\"Enter two numbers.\")\n",
    "            user_choice2 = int(input(\"Enter first number = \"))\n",
    "            user_choice3 = int(input(\"Enter second number = \"))\n",
    "            mul = user_choice2 * user_choice3\n",
    "            talk(user_name + \", the product of \" + str(user_choice2) + \" and \" + str(user_choice3) + \" is \" + str(mul) + \".\")\n",
    "            print(\"Product of\", user_choice2, \"and\", user_choice3, \"is\", mul)\n",
    "        elif user_choice1.upper() == \"QUOTIENT\" or user_choice1.upper() == \"DIVIDE\" or user_choice1 == '/':\n",
    "            talk(\"Enter two numbers.\")\n",
    "            user_choice2 = int(input(\"Enter first number = \"))\n",
    "            user_choice3 = int(input(\"Enter second number = \"))\n",
    "            div = user_choice2 / user_choice3\n",
    "            talk(user_name + \", the quotient of \" + str(user_choice2) + \" and \" + str(user_choice3) + \" is \" + str(div) + \".\")\n",
    "            print(\"Quotient of\", user_choice2, \"and\", user_choice3, \"is\", div)\n",
    "        elif user_choice1.upper() == \"REMAINDER\" or user_choice1.upper() == \"MODULUS\" or user_choice1 == '%':\n",
    "            talk(\"Enter two numbers.\")\n",
    "            user_choice2 = int(input(\"Enter first number = \"))\n",
    "            user_choice3 = int(input(\"Enter second number = \"))\n",
    "            rem = user_choice2 % user_choice3\n",
    "            talk(user_name + \", the modulus of \" + str(user_choice2) + \" and \" + str(user_choice3) + \" is \" + str(rem) + \".\")\n",
    "            print(\"Modulus of\", user_choice2, \"and\", user_choice3, \"is\", rem)\n",
    "        else:\n",
    "            talk(\"Thank you, \" + user_name + \", for using the calculator.\")\n",
    "\n",
    "        talk(\"Would you like to calculate more?\")\n",
    "        talk(\"Please say Yes or No.\")\n",
    "        user_choice4 = take_command()\n",
    "    else:\n",
    "        talk(\"Thank you, \" + user_name + \", for using the calculator.\")"
   ]
  },
  {
   "cell_type": "markdown",
   "metadata": {},
   "source": [
    "## Program"
   ]
  },
  {
   "cell_type": "code",
   "execution_count": 28,
   "metadata": {},
   "outputs": [
    {
     "name": "stdout",
     "output_type": "stream",
     "text": [
      "listening....\n",
      "recognizing...\n",
      "listening....\n",
      "recognizing...\n",
      "If you play a Windows CD backwards, you'll hear satanic chanting ... worse still, if you play it forwards, it installs Windows.\n",
      "listening....\n",
      "recognizing...\n",
      "listening....\n",
      "recognizing...\n",
      "Rabindranath Tagore  ( (listen); pronounced [rɔˈbindɾɔnatʰ ˈʈʰakuɾ]; 7 May 1861 – 7 August 1941) was a Bengali poet, writer, playwright, composer, philosopher, social reformer and painter. He reshaped Bengali literature and music as well as Indian art with Contextual Modernism in the late 19th and early 20th centuries.\n",
      "listening....\n",
      "recognizing...\n"
     ]
    }
   ],
   "source": [
    "talk(\"Hello, myself Sophie. I am your program assistant.\")\n",
    "talk(\"May I know your name, please?\")\n",
    "user_input = take_command()  # Here user_input takes the name of the user\n",
    "daytime = good_time()\n",
    "talk(daytime + user_input + \", how can I help you?\")\n",
    "\n",
    "user_input1 = 'YES'\n",
    "while user_input1.upper() == 'YES':\n",
    "    try:\n",
    "        user_choice = take_command()  # Here user_choice takes the choice from the user\n",
    "        if 'open browser' in user_choice:\n",
    "            Browser(user_input)\n",
    "        elif 'open meeting app' in user_choice:\n",
    "            meet_app(user_input)\n",
    "        elif 'open social media' in user_choice:\n",
    "            social_media(user_input)\n",
    "        elif 'open media player' in user_choice:\n",
    "            media_player(user_input)\n",
    "        elif 'search' in user_choice:\n",
    "            Surfing(user_input)\n",
    "        elif 'open YouTube' in user_choice or 'search a video' in user_choice:\n",
    "            watch_video(user_input)\n",
    "        elif 'open system setting' in user_choice:\n",
    "            Setting(user_input)\n",
    "        elif 'open calculator' in user_choice:\n",
    "            calculator(user_input)\n",
    "        elif 'play a song' in user_choice:\n",
    "            song = user_choice.replace('play a song' , '')\n",
    "            talk('playing' + song)\n",
    "            print('playing')\n",
    "            pywhatkit.playonyt(song)\n",
    "        elif 'tell the current time' in user_choice:\n",
    "            current_time = datetime.datetime.now().strftime('%I:%M %p')\n",
    "            print(current_time)\n",
    "            talk(\"Current Time is \" + current_time)\n",
    "        elif 'who the heck is' in user_choice:\n",
    "            person = user_choice.replace('who the heck is', '')\n",
    "            info = wikipedia.summary(person, 2)\n",
    "            print(info)\n",
    "            talk(info)\n",
    "        elif 'want to go for a date' in user_choice:\n",
    "            talk('sorry, I have a headache')\n",
    "        elif 'are you single' in user_choice:\n",
    "            talk('I am in a relationship with wifi')\n",
    "        elif 'tell a joke' in user_choice:\n",
    "            print(pyjokes.get_joke())\n",
    "            talk(pyjokes.get_joke())\n",
    "        else:\n",
    "            talk(user_input + \" I am not able to perform the command at this moment.\")\n",
    "    except:\n",
    "        talk(user_input + \" I am not able to perform the command at this moment.\")\n",
    "\n",
    "    talk(user_input + \", would you like to perform another command? Please say Yes or No.\")\n",
    "    user_input1 = take_command()\n",
    "    \n",
    "    if user_input1.upper() == 'NO':\n",
    "        talk(\"Thank you, \" + user_input + \", for interacting.\")\n",
    "        talk(\"We will interact again soon.\")\n",
    "        break\n",
    "    \n",
    "    talk(user_input + \", what you want I would do?\")\n",
    "\n",
    "else:\n",
    "    talk(\"Thank you, \" + user_input + \", for interacting.\")\n",
    "    talk(\"We will interact again soon.\")"
   ]
  },
  {
   "cell_type": "code",
   "execution_count": null,
   "metadata": {},
   "outputs": [],
   "source": []
  }
 ],
 "metadata": {
  "kernelspec": {
   "display_name": "Python 3 (ipykernel)",
   "language": "python",
   "name": "python3"
  },
  "language_info": {
   "codemirror_mode": {
    "name": "ipython",
    "version": 3
   },
   "file_extension": ".py",
   "mimetype": "text/x-python",
   "name": "python",
   "nbconvert_exporter": "python",
   "pygments_lexer": "ipython3",
   "version": "3.10.11"
  }
 },
 "nbformat": 4,
 "nbformat_minor": 2
}
