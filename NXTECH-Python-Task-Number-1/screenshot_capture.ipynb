{
 "cells": [
  {
   "cell_type": "code",
   "execution_count": 1,
   "id": "c67fe74d",
   "metadata": {},
   "outputs": [
    {
     "data": {
      "text/plain": [
       "'\\nScreenshot Capture\\n\\nThis program captures a screenshot of the current screen using the PyAutoGUI library and saves it to a user-specified location using a tkinter-based GUI.\\n\\nRequirements:\\n- PyAutoGUI library\\n- tkinter library (included in Python standard library)\\n'"
      ]
     },
     "execution_count": 1,
     "metadata": {},
     "output_type": "execute_result"
    }
   ],
   "source": [
    "\"\"\"\n",
    "Screenshot Capture\n",
    "\n",
    "This program captures a screenshot of the current screen using the PyAutoGUI library and saves it to a user-specified location using a tkinter-based GUI.\n",
    "\n",
    "Requirements:\n",
    "- PyAutoGUI library\n",
    "- tkinter library (included in Python standard library)\n",
    "\"\"\""
   ]
  },
  {
   "cell_type": "code",
   "execution_count": 2,
   "id": "4162935c",
   "metadata": {},
   "outputs": [
    {
     "name": "stdout",
     "output_type": "stream",
     "text": [
      "Requirement already satisfied: PyAutoGUI in c:\\users\\mohak\\anaconda3\\lib\\site-packages (0.9.54)\n",
      "Requirement already satisfied: pyscreeze>=0.1.21 in c:\\users\\mohak\\anaconda3\\lib\\site-packages (from PyAutoGUI) (0.1.29)\n",
      "Requirement already satisfied: pymsgbox in c:\\users\\mohak\\anaconda3\\lib\\site-packages (from PyAutoGUI) (1.0.9)\n",
      "Requirement already satisfied: mouseinfo in c:\\users\\mohak\\anaconda3\\lib\\site-packages (from PyAutoGUI) (0.1.3)\n",
      "Requirement already satisfied: pytweening>=1.0.4 in c:\\users\\mohak\\anaconda3\\lib\\site-packages (from PyAutoGUI) (1.0.7)\n",
      "Requirement already satisfied: pygetwindow>=0.0.5 in c:\\users\\mohak\\anaconda3\\lib\\site-packages (from PyAutoGUI) (0.0.9)\n",
      "Requirement already satisfied: pyrect in c:\\users\\mohak\\anaconda3\\lib\\site-packages (from pygetwindow>=0.0.5->PyAutoGUI) (0.2.0)\n",
      "Requirement already satisfied: Pillow>=9.2.0 in c:\\users\\mohak\\anaconda3\\lib\\site-packages (from pyscreeze>=0.1.21->PyAutoGUI) (9.2.0)\n",
      "Requirement already satisfied: pyscreenshot in c:\\users\\mohak\\anaconda3\\lib\\site-packages (from pyscreeze>=0.1.21->PyAutoGUI) (3.1)\n",
      "Requirement already satisfied: pyperclip in c:\\users\\mohak\\anaconda3\\lib\\site-packages (from mouseinfo->PyAutoGUI) (1.8.2)\n",
      "Requirement already satisfied: entrypoint2 in c:\\users\\mohak\\anaconda3\\lib\\site-packages (from pyscreenshot->pyscreeze>=0.1.21->PyAutoGUI) (1.1)\n",
      "Requirement already satisfied: mss in c:\\users\\mohak\\anaconda3\\lib\\site-packages (from pyscreenshot->pyscreeze>=0.1.21->PyAutoGUI) (9.0.1)\n",
      "Requirement already satisfied: EasyProcess in c:\\users\\mohak\\anaconda3\\lib\\site-packages (from pyscreenshot->pyscreeze>=0.1.21->PyAutoGUI) (1.1)\n",
      "Note: you may need to restart the kernel to use updated packages.\n"
     ]
    }
   ],
   "source": [
    "pip install PyAutoGUI"
   ]
  },
  {
   "cell_type": "code",
   "execution_count": 3,
   "id": "c5184206",
   "metadata": {},
   "outputs": [],
   "source": [
    "import pyautogui\n",
    "import tkinter as tk\n",
    "from tkinter.filedialog import asksaveasfile"
   ]
  },
  {
   "cell_type": "code",
   "execution_count": 4,
   "id": "c1d6d644",
   "metadata": {},
   "outputs": [
    {
     "data": {
      "text/plain": [
       "''"
      ]
     },
     "execution_count": 4,
     "metadata": {},
     "output_type": "execute_result"
    }
   ],
   "source": [
    "# Create the main window\n",
    "root = tk.Tk()\n",
    "root.title(\"Screenshot Capture\")\n",
    "root.geometry(\"300x300\")"
   ]
  },
  {
   "cell_type": "code",
   "execution_count": 5,
   "id": "5c38cb44",
   "metadata": {},
   "outputs": [],
   "source": [
    "# Create a canvas to hold the GUI elements\n",
    "canvas1 = tk.Canvas(root, width=300, height=300)\n",
    "canvas1.pack()"
   ]
  },
  {
   "cell_type": "code",
   "execution_count": 6,
   "id": "ac7bcc72",
   "metadata": {},
   "outputs": [],
   "source": [
    "def takeScreenshot():\n",
    "    \"\"\"\n",
    "    Function to capture the screenshot and save it to a user-specified location.\n",
    "    \"\"\"\n",
    "    # Capture the screenshot\n",
    "    myscreenshot = pyautogui.screenshot()\n",
    "\n",
    "    # Prompt the user to select a save location\n",
    "    save_path = asksaveasfile(defaultextension='.png')\n",
    "\n",
    "    # Save the screenshot if a valid save location is selected\n",
    "    if save_path:\n",
    "        myscreenshot.save(save_path.name)"
   ]
  },
  {
   "cell_type": "code",
   "execution_count": 7,
   "id": "0dd2ac65",
   "metadata": {},
   "outputs": [
    {
     "data": {
      "text/plain": [
       "1"
      ]
     },
     "execution_count": 7,
     "metadata": {},
     "output_type": "execute_result"
    }
   ],
   "source": [
    "# Create a button to trigger the screenshot capture\n",
    "myButton = tk.Button(text=\"Take Screenshot\", command=takeScreenshot, font=(\"Arial\", 10))\n",
    "canvas1.create_window(150, 150, window=myButton)"
   ]
  },
  {
   "cell_type": "code",
   "execution_count": 8,
   "id": "7121bca0",
   "metadata": {},
   "outputs": [],
   "source": [
    "# Start the GUI event loop\n",
    "root.mainloop()"
   ]
  }
 ],
 "metadata": {
  "kernelspec": {
   "display_name": "Python 3 (ipykernel)",
   "language": "python",
   "name": "python3"
  },
  "language_info": {
   "codemirror_mode": {
    "name": "ipython",
    "version": 3
   },
   "file_extension": ".py",
   "mimetype": "text/x-python",
   "name": "python",
   "nbconvert_exporter": "python",
   "pygments_lexer": "ipython3",
   "version": "3.9.13"
  }
 },
 "nbformat": 4,
 "nbformat_minor": 5
}
